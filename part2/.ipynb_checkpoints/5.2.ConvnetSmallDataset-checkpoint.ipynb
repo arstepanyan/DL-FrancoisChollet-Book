{
 "cells": [
  {
   "cell_type": "markdown",
   "metadata": {},
   "source": [
    "We are going to use Dogs vs. Cats dataset that was made available by Kaggle as part of a computer-vision competition in late 2013: www.kaggle.com/c/dogs-vs-cats/data"
   ]
  },
  {
   "cell_type": "code",
   "execution_count": 1,
   "metadata": {
    "collapsed": true
   },
   "outputs": [],
   "source": [
    "# Copying images to trainig, validation, and test directories \n",
    "# Training set: 1,000 samples of each class\n",
    "# Validation set: 500 samples of each class\n",
    "# Test set: 500 samples of each class\n",
    "\n",
    "import os, shutil\n",
    "\n",
    "# path to the directory where the original dataset was uncompressed\n",
    "original_dataset_dir = '/Users/aram/aproj/as_proj/kaggle_original_data'\n",
    "\n",
    "# directory where we will store our smaller dataset\n",
    "base_dir = '/Users/aram/aproj/as_proj/cats_and_dogs_small'\n",
    "if not os.path.exists(base_dir):\n",
    "    os.mkdir(base_dir)\n",
    "\n",
    "train_dir = os.path.join(base_dir, 'train')\n",
    "if not os.path.exists(train_dir):\n",
    "    os.mkdir(train_dir)\n",
    "    \n",
    "validation_dir = os.path.join(base_dir, 'validation')\n",
    "if not os.path.exists(validation_dir):\n",
    "    os.mkdir(validation_dir)\n",
    "    \n",
    "test_dir = os.path.join(base_dir, 'test')\n",
    "if not os.path.exists(test_dir):\n",
    "    os.mkdir(test_dir)\n",
    "\n",
    "train_cats_dir = os.path.join(train_dir, 'cats')    # directory with training cat pictures\n",
    "if not os.path.exists(train_cats_dir):\n",
    "    os.mkdir(train_cats_dir)\n",
    "\n",
    "train_dogs_dir = os.path.join(train_dir, 'dogs')    # directory with training dog pictures\n",
    "if not os.path.exists(train_dogs_dir):\n",
    "    os.mkdir(train_dogs_dir)\n",
    "\n",
    "validation_cats_dir = os.path.join(validation_dir, 'cats')    # directory with validation cat pictures\n",
    "if not os.path.exists(validation_cats_dir):\n",
    "    os.mkdir(validation_cats_dir)\n",
    "\n",
    "validation_dogs_dir = os.path.join(validation_dir, 'dogs')    # directory with validation dog pictures\n",
    "if not os.path.exists(validation_dogs_dir):\n",
    "    os.mkdir(validation_dogs_dir)\n",
    "\n",
    "test_cats_dir = os.path.join(test_dir, 'cats')    # directory with test cat pictures\n",
    "if not os.path.exists(test_cats_dir):\n",
    "    os.mkdir(test_cats_dir)\n",
    "\n",
    "test_dogs_dir = os.path.join(test_dir, 'dogs')    # directory with test dog pictures\n",
    "if not os.path.exists(test_dogs_dir):\n",
    "    os.mkdir(test_dogs_dir)\n",
    "\n",
    "# copy the first 1,000 cat images to train_cats_dir\n",
    "fnames = ['cat.{}.jpg'.format(i) for i in range(1000)]      \n",
    "for fname in fnames:                         \n",
    "    src = os.path.join(original_dataset_dir, 'train', fname)\n",
    "    dst = os.path.join(train_cats_dir, fname)\n",
    "    shutil.copyfile(src, dst)\n",
    "    \n",
    "# copy the next 500 cat images to validation_cats_dir\n",
    "fnames = ['cat.{}.jpg'.format(i) for i in range(1000, 1500)]\n",
    "for fname in fnames:\n",
    "    src = os.path.join(original_dataset_dir, 'train', fname)\n",
    "    dst = os.path.join(validation_cats_dir, fname)\n",
    "    shutil.copyfile(src, dst)\n",
    "    \n",
    "# copy the next 500 cat images to test_cats_dir\n",
    "fnames = ['cat.{}.jpg'.format(i) for i in range(1500, 2000)]\n",
    "for fname in fnames:\n",
    "    src = os.path.join(original_dataset_dir, 'train', fname)\n",
    "    dst = os.path.join(test_cats_dir, fname)\n",
    "    shutil.copyfile(src, dst)\n",
    "    \n",
    "# copy the first 1,000 dog images to train_dogs_dir\n",
    "fnames = ['dog.{}.jpg'.format(i) for i in range(1000)]\n",
    "for fname in fnames:\n",
    "    src = os.path.join(original_dataset_dir, 'train', fname)\n",
    "    dst = os.path.join(train_dogs_dir, fname)\n",
    "    shutil.copyfile(src, dst)\n",
    "    \n",
    "# copy the next 500 dog images to validation_dogs_dir\n",
    "fnames = ['dog.{}.jpg'.format(i) for i in range(1000, 1500)]\n",
    "for fname in fnames:\n",
    "    src = os.path.join(original_dataset_dir, 'train', fname)\n",
    "    dst = os.path.join(validation_dogs_dir, fname)\n",
    "    shutil.copyfile(src, dst)\n",
    "    \n",
    "# copy the next 500 dog images to test_dogs_dir\n",
    "fnames = ['dog.{}.jpg'.format(i) for i in range(1500, 2000)]\n",
    "for fname in fnames:\n",
    "    src = os.path.join(original_dataset_dir,'train', fname)\n",
    "    dst = os.path.join(test_dogs_dir, fname)\n",
    "    shutil.copyfile(src, dst)"
   ]
  },
  {
   "cell_type": "code",
   "execution_count": 2,
   "metadata": {},
   "outputs": [
    {
     "name": "stdout",
     "output_type": "stream",
     "text": [
      "total training cat images: 1000\n",
      "total training dog images: 1000\n",
      "total validation cat images: 500\n",
      "total validation dog images: 500\n",
      "total test cat images: 500\n",
      "total test dog images: 500\n"
     ]
    }
   ],
   "source": [
    "# Check how many pictures are in each trainig split (train/validation/test)\n",
    "\n",
    "print('total training cat images:', len(os.listdir(train_cats_dir)))\n",
    "print('total training dog images:', len(os.listdir(train_dogs_dir)))\n",
    "print('total validation cat images:', len(os.listdir(validation_cats_dir)))\n",
    "print('total validation dog images:', len(os.listdir(validation_dogs_dir)))\n",
    "print('total test cat images:', len(os.listdir(test_cats_dir)))\n",
    "print('total test dog images:', len(os.listdir(test_dogs_dir)))"
   ]
  },
  {
   "cell_type": "markdown",
   "metadata": {},
   "source": [
    "## Instantiating a small convnet for dogs vs. cats classification\n"
   ]
  },
  {
   "cell_type": "code",
   "execution_count": 3,
   "metadata": {},
   "outputs": [
    {
     "name": "stderr",
     "output_type": "stream",
     "text": [
      "Using TensorFlow backend.\n",
      "/Users/aram/anaconda3/lib/python3.6/importlib/_bootstrap.py:219: RuntimeWarning: compiletime version 3.5 of module 'tensorflow.python.framework.fast_tensor_util' does not match runtime version 3.6\n",
      "  return f(*args, **kwds)\n"
     ]
    }
   ],
   "source": [
    "from keras import layers\n",
    "from keras import models\n",
    "model = models.Sequential()\n",
    "model.add(layers.Conv2D(32, (3, 3), activation='relu',\n",
    "                        input_shape=(150, 150, 3)))\n",
    "model.add(layers.MaxPooling2D((2, 2)))\n",
    "model.add(layers.Conv2D(64, (3, 3), activation='relu'))\n",
    "model.add(layers.MaxPooling2D((2, 2)))\n",
    "model.add(layers.Conv2D(128, (3, 3), activation='relu'))\n",
    "model.add(layers.MaxPooling2D((2, 2)))\n",
    "model.add(layers.Conv2D(128, (3, 3), activation='relu'))\n",
    "model.add(layers.MaxPooling2D((2, 2)))\n",
    "model.add(layers.Flatten())\n",
    "model.add(layers.Dense(512, activation='relu'))\n",
    "model.add(layers.Dense(1, activation='sigmoid'))\n"
   ]
  },
  {
   "cell_type": "code",
   "execution_count": 4,
   "metadata": {},
   "outputs": [
    {
     "name": "stdout",
     "output_type": "stream",
     "text": [
      "_________________________________________________________________\n",
      "Layer (type)                 Output Shape              Param #   \n",
      "=================================================================\n",
      "conv2d_1 (Conv2D)            (None, 148, 148, 32)      896       \n",
      "_________________________________________________________________\n",
      "max_pooling2d_1 (MaxPooling2 (None, 74, 74, 32)        0         \n",
      "_________________________________________________________________\n",
      "conv2d_2 (Conv2D)            (None, 72, 72, 64)        18496     \n",
      "_________________________________________________________________\n",
      "max_pooling2d_2 (MaxPooling2 (None, 36, 36, 64)        0         \n",
      "_________________________________________________________________\n",
      "conv2d_3 (Conv2D)            (None, 34, 34, 128)       73856     \n",
      "_________________________________________________________________\n",
      "max_pooling2d_3 (MaxPooling2 (None, 17, 17, 128)       0         \n",
      "_________________________________________________________________\n",
      "conv2d_4 (Conv2D)            (None, 15, 15, 128)       147584    \n",
      "_________________________________________________________________\n",
      "max_pooling2d_4 (MaxPooling2 (None, 7, 7, 128)         0         \n",
      "_________________________________________________________________\n",
      "flatten_1 (Flatten)          (None, 6272)              0         \n",
      "_________________________________________________________________\n",
      "dense_1 (Dense)              (None, 512)               3211776   \n",
      "_________________________________________________________________\n",
      "dense_2 (Dense)              (None, 1)                 513       \n",
      "=================================================================\n",
      "Total params: 3,453,121\n",
      "Trainable params: 3,453,121\n",
      "Non-trainable params: 0\n",
      "_________________________________________________________________\n"
     ]
    }
   ],
   "source": [
    "model.summary()"
   ]
  },
  {
   "cell_type": "code",
   "execution_count": 5,
   "metadata": {
    "collapsed": true
   },
   "outputs": [],
   "source": [
    "# Compile\n",
    "from keras import optimizers\n",
    "\n",
    "model.compile(loss='binary_crossentropy',\n",
    "              optimizer=optimizers.RMSprop(lr=1e-4),\n",
    "              metrics=['acc'])"
   ]
  },
  {
   "cell_type": "markdown",
   "metadata": {
    "collapsed": true
   },
   "source": [
    "## Data preprocessing\n",
    "1. Read the picture files.\n",
    "2. Decode the JPEG content to RGB grids of pixels.\n",
    "3. Convert these into floating-point tensors.\n",
    "4. Rescale the pixel values (between 0 and 255) to the [0, 1] interval (as you know, neural networks prefer to deal with small input values)\n",
    "\n",
    "Keras has a module with image-processing helper tools, located at keras.preprocessing.image. In particular, it contains the class ImageDataGenerator, which lets you quickly set up Python generators that can automatically turn image files on disk into batches of preprocessed tensors. \n",
    "\n",
    "### Understanding Python generators  \n",
    "\n",
    "A Python generator is an object that acts as an iterator: it’s an object you can use with the for ... in operator. Generators are built using the yield operator.\n",
    "\n",
    "Here is an example of a generator that yields integers:  \n",
    "\n",
    "    def generator():   \n",
    "        i=0  \n",
    "        while True:  \n",
    "            i += 1  \n",
    "            yield i  \n",
    "\n",
    "    for item in generator():  \n",
    "        print(item)  \n",
    "        if item > 4:  \n",
    "            break  \n",
    "        \n",
    "It prints this:  \n",
    "1   \n",
    "2  \n",
    "3  \n",
    "4  \n",
    "5  "
   ]
  },
  {
   "cell_type": "code",
   "execution_count": 10,
   "metadata": {},
   "outputs": [
    {
     "name": "stdout",
     "output_type": "stream",
     "text": [
      "Found 2000 images belonging to 2 classes.\n",
      "Found 1000 images belonging to 2 classes.\n",
      "data batch shape: (20, 150, 150, 3)\n",
      "label batch shape: (20,)\n"
     ]
    }
   ],
   "source": [
    "# Using ImageDataGenerator to read image from directories\n",
    "from keras.preprocessing.image import ImageDataGenerator\n",
    "\n",
    "train_datagen = ImageDataGenerator(rescale=1./255)\n",
    "test_datagen = ImageDataGenerator(rescale=1./255)\n",
    "\n",
    "train_generator = train_datagen.flow_from_directory(train_dir, \n",
    "                                                   target_size = (150, 150),\n",
    "                                                   batch_size=20,         # number of samples\n",
    "                                                   class_mode='binary')   # Because we use binary_crossentropy loss, we need binary labels\n",
    "\n",
    "validation_generator = test_datagen.flow_from_directory(validation_dir,\n",
    "                                                       target_size=(150, 150),\n",
    "                                                       batch_size=20,\n",
    "                                                       class_mode='binary')\n",
    "\n",
    "for data_batch, labels_batch in train_generator:\n",
    "    print('data batch shape:', data_batch.shape)\n",
    "    print('label batch shape:', labels_batch.shape)\n",
    "    break"
   ]
  },
  {
   "cell_type": "markdown",
   "metadata": {},
   "source": [
    " ## Fitting the model using a batch generator\n",
    " \n",
    "To fit the data using the generator, we are going to use *fit_generator* method, equivalent of *fit*. It expects as its first argument a Python generator that will yield batches of inputs and targets indefinitely, like this one does. Because the data is being generated endlessly (that's why we used *break* in the example above), the Keras model needs to know how many samples to draw from the generator before declaring an epoch over. This is the role of the steps_per_epoch argument: after having drawn steps_per_epoch batches from the generator—that is, after having run for steps_per_epoch gradient descent steps—the fitting process will go to the next epoch. In this case, batches are 20 samples, so it will take 100 batches until you see your target of 2,000 samples.\n",
    "\n",
    "It’s important to note that *validation_data* is allowed to be a data generator, but it could also be a tuple of Numpy arrays. If you pass a generator as validation_data, then this generator is expected to yield batches of validation data endlessly; thus you should also specify the validation_steps argument, which tells the process how many batches to draw from the validation generator for evaluation.\n"
   ]
  },
  {
   "cell_type": "code",
   "execution_count": 11,
   "metadata": {},
   "outputs": [
    {
     "name": "stdout",
     "output_type": "stream",
     "text": [
      "Epoch 1/30\n",
      "100/100 [==============================] - 75s 749ms/step - loss: 0.6899 - acc: 0.5410 - val_loss: 0.7313 - val_acc: 0.5000\n",
      "Epoch 2/30\n",
      "100/100 [==============================] - 74s 736ms/step - loss: 0.6647 - acc: 0.5945 - val_loss: 0.6378 - val_acc: 0.6460\n",
      "Epoch 3/30\n",
      "100/100 [==============================] - 73s 729ms/step - loss: 0.6147 - acc: 0.6575 - val_loss: 0.6199 - val_acc: 0.6450\n",
      "Epoch 4/30\n",
      "100/100 [==============================] - 74s 741ms/step - loss: 0.5745 - acc: 0.6985 - val_loss: 0.5896 - val_acc: 0.6840\n",
      "Epoch 5/30\n",
      "100/100 [==============================] - 74s 739ms/step - loss: 0.5433 - acc: 0.7210 - val_loss: 0.6120 - val_acc: 0.6640\n",
      "Epoch 6/30\n",
      "100/100 [==============================] - 74s 743ms/step - loss: 0.5160 - acc: 0.7365 - val_loss: 0.5925 - val_acc: 0.6850\n",
      "Epoch 7/30\n",
      "100/100 [==============================] - 76s 759ms/step - loss: 0.4883 - acc: 0.7615 - val_loss: 0.5515 - val_acc: 0.6980\n",
      "Epoch 8/30\n",
      "100/100 [==============================] - 82s 821ms/step - loss: 0.4666 - acc: 0.7790 - val_loss: 0.5549 - val_acc: 0.7110\n",
      "Epoch 9/30\n",
      "100/100 [==============================] - 81s 808ms/step - loss: 0.4414 - acc: 0.7940 - val_loss: 0.5605 - val_acc: 0.7070\n",
      "Epoch 10/30\n",
      "100/100 [==============================] - 82s 823ms/step - loss: 0.4147 - acc: 0.8125 - val_loss: 0.5654 - val_acc: 0.7140\n",
      "Epoch 11/30\n",
      "100/100 [==============================] - 82s 825ms/step - loss: 0.3923 - acc: 0.8285 - val_loss: 0.5524 - val_acc: 0.7220\n",
      "Epoch 12/30\n",
      "100/100 [==============================] - 89s 890ms/step - loss: 0.3719 - acc: 0.8330 - val_loss: 0.5969 - val_acc: 0.7250\n",
      "Epoch 13/30\n",
      "100/100 [==============================] - 88s 884ms/step - loss: 0.3453 - acc: 0.8480 - val_loss: 0.5930 - val_acc: 0.7230\n",
      "Epoch 14/30\n",
      "100/100 [==============================] - 78s 775ms/step - loss: 0.3280 - acc: 0.8610 - val_loss: 0.5882 - val_acc: 0.7180\n",
      "Epoch 15/30\n",
      "100/100 [==============================] - 77s 773ms/step - loss: 0.3026 - acc: 0.8740 - val_loss: 0.5603 - val_acc: 0.7380\n",
      "Epoch 16/30\n",
      "100/100 [==============================] - 76s 762ms/step - loss: 0.2829 - acc: 0.8920 - val_loss: 0.6045 - val_acc: 0.7120\n",
      "Epoch 17/30\n",
      "100/100 [==============================] - 76s 760ms/step - loss: 0.2640 - acc: 0.8880 - val_loss: 0.5830 - val_acc: 0.7350\n",
      "Epoch 18/30\n",
      "100/100 [==============================] - 76s 759ms/step - loss: 0.2402 - acc: 0.9030 - val_loss: 0.6643 - val_acc: 0.7190\n",
      "Epoch 19/30\n",
      "100/100 [==============================] - 76s 762ms/step - loss: 0.2153 - acc: 0.9190 - val_loss: 0.6370 - val_acc: 0.7320\n",
      "Epoch 20/30\n",
      "100/100 [==============================] - 76s 761ms/step - loss: 0.2012 - acc: 0.9280 - val_loss: 0.6493 - val_acc: 0.7280\n",
      "Epoch 21/30\n",
      "100/100 [==============================] - 76s 758ms/step - loss: 0.1773 - acc: 0.9375 - val_loss: 0.6981 - val_acc: 0.7270\n",
      "Epoch 22/30\n",
      "100/100 [==============================] - 76s 758ms/step - loss: 0.1592 - acc: 0.9490 - val_loss: 0.6687 - val_acc: 0.7160\n",
      "Epoch 23/30\n",
      "100/100 [==============================] - 76s 759ms/step - loss: 0.1402 - acc: 0.9565 - val_loss: 0.6931 - val_acc: 0.7420\n",
      "Epoch 24/30\n",
      "100/100 [==============================] - 76s 756ms/step - loss: 0.1237 - acc: 0.9635 - val_loss: 0.7704 - val_acc: 0.7370\n",
      "Epoch 25/30\n",
      "100/100 [==============================] - 76s 755ms/step - loss: 0.1151 - acc: 0.9630 - val_loss: 0.7182 - val_acc: 0.7220\n",
      "Epoch 26/30\n",
      "100/100 [==============================] - 76s 758ms/step - loss: 0.0899 - acc: 0.9735 - val_loss: 0.8076 - val_acc: 0.7270\n",
      "Epoch 27/30\n",
      "100/100 [==============================] - 77s 766ms/step - loss: 0.0865 - acc: 0.9735 - val_loss: 0.8081 - val_acc: 0.7360\n",
      "Epoch 28/30\n",
      "100/100 [==============================] - 76s 760ms/step - loss: 0.0715 - acc: 0.9800 - val_loss: 0.8704 - val_acc: 0.7320\n",
      "Epoch 29/30\n",
      "100/100 [==============================] - 77s 767ms/step - loss: 0.0652 - acc: 0.9820 - val_loss: 0.8938 - val_acc: 0.7370\n",
      "Epoch 30/30\n",
      "100/100 [==============================] - 76s 758ms/step - loss: 0.0523 - acc: 0.9880 - val_loss: 0.8713 - val_acc: 0.7310\n"
     ]
    }
   ],
   "source": [
    "history = model.fit_generator(\n",
    "    train_generator,\n",
    "    steps_per_epoch=100,\n",
    "    epochs=30,\n",
    "    validation_data=validation_generator,\n",
    "    validation_steps=50)"
   ]
  },
  {
   "cell_type": "code",
   "execution_count": 12,
   "metadata": {
    "collapsed": true
   },
   "outputs": [],
   "source": [
    "# Save the model after training (a good practice)\n",
    "model.save('cats_and_dogs_small_1.h5')"
   ]
  },
  {
   "cell_type": "markdown",
   "metadata": {},
   "source": [
    "### Display curves of loss and accuracy during training\n"
   ]
  },
  {
   "cell_type": "code",
   "execution_count": 14,
   "metadata": {},
   "outputs": [
    {
     "data": {
      "text/plain": [
       "<matplotlib.legend.Legend at 0x1814025588>"
      ]
     },
     "execution_count": 14,
     "metadata": {},
     "output_type": "execute_result"
    },
    {
     "data": {
      "image/png": "[encoded data removed]",
      "text/plain": [
       "<matplotlib.figure.Figure at 0x103f13dd8>"
      ]
     },
     "metadata": {},
     "output_type": "display_data"
    },
    {
     "data": {
      "image/png": "[encoded data removed]",
      "text/plain": [
       "<matplotlib.figure.Figure at 0x1813f36cf8>"
      ]
     },
     "metadata": {},
     "output_type": "display_data"
    }
   ],
   "source": [
    "import matplotlib.pyplot as plt\n",
    "%matplotlib inline\n",
    "\n",
    "acc = history.history['acc']\n",
    "val_acc = history.history['val_acc']\n",
    "loss = history.history['loss']\n",
    "val_loss = history.history['val_loss']\n",
    "\n",
    "epochs = range(1, len(acc) + 1)\n",
    "\n",
    "plt.plot(epochs, acc, 'bo', label=\"Training acc\")\n",
    "plt.plot(epochs, val_acc, 'b', label='Validation acc')\n",
    "plt.title(\"Training and validation accuracy\")\n",
    "plt.legend()\n",
    "\n",
    "plt.figure()\n",
    "\n",
    "plt.plot(epochs, loss, 'bo', label='Training loss')\n",
    "plt.plot(epochs, val_loss, 'b', label='Validation loss')\n",
    "plt.title(\"Training and validation loss\")\n",
    "plt.legend()"
   ]
  },
  {
   "cell_type": "markdown",
   "metadata": {},
   "source": [
    "Because we have relatively few training samples (2,000), overfitting will be our number-one concern. We already know about a number of techniques that can help mitigate overfitting, such as dropout and weight decay (L2 regularization). We’re now going to work with a new one, specific to computer vision and used almost universally when processing images with deep-learning models: **data augmentation**."
   ]
  },
  {
   "cell_type": "code",
   "execution_count": null,
   "metadata": {
    "collapsed": true
   },
   "outputs": [],
   "source": []
  }
 ],
 "metadata": {
  "kernelspec": {
   "display_name": "Python 3",
   "language": "python",
   "name": "python3"
  },
  "language_info": {
   "codemirror_mode": {
    "name": "ipython",
    "version": 3
   },
   "file_extension": ".py",
   "mimetype": "text/x-python",
   "name": "python",
   "nbconvert_exporter": "python",
   "pygments_lexer": "ipython3",
   "version": "3.6.3"
  }
 },
 "nbformat": 4,
 "nbformat_minor": 2
}
