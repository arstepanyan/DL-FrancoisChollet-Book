{
 "cells": [
  {
   "cell_type": "markdown",
   "metadata": {},
   "source": [
    "Three of the most accessible and useful ones:\n",
    "* **Visualizing intermediate convnet outputs** (intermediate activations) —Useful for understanding how successive convnet layers transform their input, and for getting a first idea of the meaning of individual convnet filters.\n",
    "* **Visualizing convnets filters**—Useful for understanding precisely what visual pattern or concept each filter in a convnet is receptive to.\n",
    "* **Visualizing heatmaps of class activation** in an image—Useful for understanding which parts of an image were identified as belonging to a given class, thus allowing you to localize objects in images.\n",
    "\n",
    "## Visualizing intermediate activations\n"
   ]
  },
  {
   "cell_type": "code",
   "execution_count": null,
   "metadata": {
    "collapsed": true
   },
   "outputs": [],
   "source": []
  }
 ],
 "metadata": {
  "kernelspec": {
   "display_name": "Python [default]",
   "language": "python",
   "name": "python3"
  },
  "language_info": {
   "codemirror_mode": {
    "name": "ipython",
    "version": 3
   },
   "file_extension": ".py",
   "mimetype": "text/x-python",
   "name": "python",
   "nbconvert_exporter": "python",
   "pygments_lexer": "ipython3",
   "version": "3.5.4"
  }
 },
 "nbformat": 4,
 "nbformat_minor": 2
}
